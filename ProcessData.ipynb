{
 "cells": [
  {
   "cell_type": "markdown",
   "source": [
    "## Import"
   ],
   "metadata": {
    "collapsed": false,
    "pycharm": {
     "name": "#%% md\n"
    }
   }
  },
  {
   "cell_type": "code",
   "execution_count": 2,
   "outputs": [],
   "source": [
    "import pandas as pd\n",
    "import tensorflow as tf\n",
    "from fileMaster import *"
   ],
   "metadata": {
    "collapsed": false,
    "pycharm": {
     "name": "#%%\n"
    }
   }
  },
  {
   "cell_type": "markdown",
   "source": [
    "## Preliminary cleaning | Clean ill-formated data"
   ],
   "metadata": {
    "collapsed": false,
    "pycharm": {
     "name": "#%% md\n"
    }
   }
  },
  {
   "cell_type": "code",
   "execution_count": 3,
   "outputs": [],
   "source": [
    "with open(raw_data_txt, 'r', encoding='utf-8') as f:\n",
    "    raw_lines = f.readlines()\n",
    "\n",
    "df = pd.DataFrame(columns=['Type', 'Msg'])\n",
    "\n",
    "count = 0\n",
    "\n",
    "for line in raw_lines:\n",
    "    line = line.replace(\"&lt;#&gt;\", \"[NUM]\").replace(\" [NUM] \", \"[NUM]\")\n",
    "    line = line.replace(\"&lt;DECIMAL&gt;\", \"[DEC]\").replace(\" [DEC] \", \"[DEC]\")\n",
    "    line = line.replace(\"&lt;URL&gt;\", \"[URL]\").replace(\" [URL] \", \"[URL]\")\n",
    "    line = line.replace(\"&lt;TIME&gt;\", \"[TIME]\").replace(\" [URL] \", \"[URL]\")\n",
    "    line = line.replace(\"&lt;EMAIL&gt;\", \"[EMAIL]\").replace(\" [EMAIL] \", \"[EMAIL]\")\n",
    "    line = line.replace(\"&lt;3\", \"[HEART]\").replace(\" [HEART] \", \"[HEART]\")\n",
    "    line = line.replace(\"&lt;\", \"[UNK]\").replace(\" [UNK] \", \"[UNK]\")\n",
    "    line = line.replace(\"\\x92\", \"'\")\n",
    "    line = line.replace(\"Bill said u or ur rents\", 'Bill said u or ur parents')\n",
    "    line = line.replace(\"MORROW\", \"TOMORROW\")\n",
    "    line = line.replace(\" \", \"\")\n",
    "    line = line.replace(\"ü\", \"u\")\n",
    "    line = line.replace(\"&amp;\", \"&\")\n",
    "    line = line.replace(\"&gt;\", \">\")\n",
    "    line = line.replace(\"鈥┾??〨ud\", \"[UNK]\")\n",
    "    line = line.replace(\"Ü\", \"U\")\n",
    "    line = line.replace(\"\", \"\")\n",
    "    line = line.replace(\"\", \" \")\n",
    "\n",
    "    _lst = line.split('\\t')\n",
    "    _type = _lst[0]\n",
    "    _msg = _lst[1].strip()\n",
    "\n",
    "    d = {'Type': _type, 'Msg': _msg}\n",
    "    df2 = pd.DataFrame(d, [count])\n",
    "\n",
    "    df = pd.concat([df, df2], axis=0)\n",
    "\n",
    "    count += 1\n",
    "\n",
    "df.to_csv(data_folder / 'cleaned.csv', sep=',', encoding='utf-8', index=False)"
   ],
   "metadata": {
    "collapsed": false,
    "pycharm": {
     "name": "#%%\n"
    }
   }
  },
  {
   "cell_type": "code",
   "execution_count": 4,
   "outputs": [
    {
     "data": {
      "text/plain": "   Type                                                Msg\n0   ham  Go until jurong point, crazy.. Available only ...\n1   ham                      Ok lar... Joking wif u oni...\n2  spam  Free entry in 2 a wkly comp to win FA Cup fina...\n3   ham  U dun say so early hor... U c already then say...\n4   ham  Nah I don't think he goes to usf, he lives aro...",
      "text/html": "<div>\n<style scoped>\n    .dataframe tbody tr th:only-of-type {\n        vertical-align: middle;\n    }\n\n    .dataframe tbody tr th {\n        vertical-align: top;\n    }\n\n    .dataframe thead th {\n        text-align: right;\n    }\n</style>\n<table border=\"1\" class=\"dataframe\">\n  <thead>\n    <tr style=\"text-align: right;\">\n      <th></th>\n      <th>Type</th>\n      <th>Msg</th>\n    </tr>\n  </thead>\n  <tbody>\n    <tr>\n      <th>0</th>\n      <td>ham</td>\n      <td>Go until jurong point, crazy.. Available only ...</td>\n    </tr>\n    <tr>\n      <th>1</th>\n      <td>ham</td>\n      <td>Ok lar... Joking wif u oni...</td>\n    </tr>\n    <tr>\n      <th>2</th>\n      <td>spam</td>\n      <td>Free entry in 2 a wkly comp to win FA Cup fina...</td>\n    </tr>\n    <tr>\n      <th>3</th>\n      <td>ham</td>\n      <td>U dun say so early hor... U c already then say...</td>\n    </tr>\n    <tr>\n      <th>4</th>\n      <td>ham</td>\n      <td>Nah I don't think he goes to usf, he lives aro...</td>\n    </tr>\n  </tbody>\n</table>\n</div>"
     },
     "execution_count": 4,
     "metadata": {},
     "output_type": "execute_result"
    }
   ],
   "source": [
    "df.head()"
   ],
   "metadata": {
    "collapsed": false,
    "pycharm": {
     "name": "#%%\n"
    }
   }
  },
  {
   "cell_type": "markdown",
   "source": [
    "## Verify Tensorflow GPU is Identified"
   ],
   "metadata": {
    "collapsed": false,
    "pycharm": {
     "name": "#%% md\n"
    }
   }
  },
  {
   "cell_type": "code",
   "execution_count": 5,
   "outputs": [
    {
     "name": "stdout",
     "output_type": "stream",
     "text": [
      "Default GPU Device: /device:GPU:0\n"
     ]
    }
   ],
   "source": [
    "if tf.test.gpu_device_name():\n",
    "\n",
    "    print('Default GPU Device: {}'.format(tf.test.gpu_device_name()))\n",
    "\n",
    "else:\n",
    "\n",
    "   print(\"Please install GPU version of TF\")\n"
   ],
   "metadata": {
    "collapsed": false,
    "pycharm": {
     "name": "#%%\n"
    }
   }
  }
 ],
 "metadata": {
  "kernelspec": {
   "display_name": "Python 3",
   "language": "python",
   "name": "python3"
  },
  "language_info": {
   "codemirror_mode": {
    "name": "ipython",
    "version": 2
   },
   "file_extension": ".py",
   "mimetype": "text/x-python",
   "name": "python",
   "nbconvert_exporter": "python",
   "pygments_lexer": "ipython2",
   "version": "2.7.6"
  }
 },
 "nbformat": 4,
 "nbformat_minor": 0
}